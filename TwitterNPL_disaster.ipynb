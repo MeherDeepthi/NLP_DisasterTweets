{
 "cells": [
  {
   "cell_type": "code",
   "execution_count": 17,
   "id": "3223f3a6",
   "metadata": {
    "ExecuteTime": {
     "end_time": "2022-10-27T10:29:13.121199Z",
     "start_time": "2022-10-27T10:29:04.491134Z"
    }
   },
   "outputs": [
    {
     "name": "stdout",
     "output_type": "stream",
     "text": [
      "Collecting autocorrect\n",
      "  Downloading autocorrect-2.6.1.tar.gz (622 kB)\n",
      "Building wheels for collected packages: autocorrect\n",
      "  Building wheel for autocorrect (setup.py): started\n",
      "  Building wheel for autocorrect (setup.py): finished with status 'done'\n",
      "  Created wheel for autocorrect: filename=autocorrect-2.6.1-py3-none-any.whl size=622380 sha256=7e075b296658f8adf5af1d8d6f71fc34a7e5676df2f0bfc1abd010893331ebe7\n",
      "  Stored in directory: c:\\users\\mmdee\\appdata\\local\\pip\\cache\\wheels\\72\\b8\\3b\\a90246d13090e85394a8a44b78c8abf577c0766f29d6543c75\n",
      "Successfully built autocorrect\n",
      "Installing collected packages: autocorrect\n",
      "Successfully installed autocorrect-2.6.1\n"
     ]
    }
   ],
   "source": [
    "!pip install autocorrect"
   ]
  },
  {
   "cell_type": "code",
   "execution_count": 5,
   "id": "100f2740",
   "metadata": {
    "ExecuteTime": {
     "end_time": "2022-11-10T00:32:10.349605Z",
     "start_time": "2022-11-10T00:32:08.157988Z"
    }
   },
   "outputs": [],
   "source": [
    "import numpy as np\n",
    "import pandas as pd \n",
    "import matplotlib.pyplot as plt\n",
    "from autocorrect import Speller\n",
    "spell = Speller()"
   ]
  },
  {
   "cell_type": "code",
   "execution_count": 6,
   "id": "3040f760",
   "metadata": {
    "ExecuteTime": {
     "end_time": "2022-11-10T01:01:27.094392Z",
     "start_time": "2022-11-10T01:01:27.050770Z"
    }
   },
   "outputs": [],
   "source": [
    "dataset1 = pd.read_csv(\"C:/Users/mmdee/OneDrive/Desktop/Data Science/projects/nlptweets/train.csv\")"
   ]
  },
  {
   "cell_type": "code",
   "execution_count": 6,
   "id": "b48c997c",
   "metadata": {
    "ExecuteTime": {
     "end_time": "2022-11-10T00:32:16.361414Z",
     "start_time": "2022-11-10T00:32:16.341572Z"
    }
   },
   "outputs": [
    {
     "data": {
      "text/html": [
       "<div>\n",
       "<style scoped>\n",
       "    .dataframe tbody tr th:only-of-type {\n",
       "        vertical-align: middle;\n",
       "    }\n",
       "\n",
       "    .dataframe tbody tr th {\n",
       "        vertical-align: top;\n",
       "    }\n",
       "\n",
       "    .dataframe thead th {\n",
       "        text-align: right;\n",
       "    }\n",
       "</style>\n",
       "<table border=\"1\" class=\"dataframe\">\n",
       "  <thead>\n",
       "    <tr style=\"text-align: right;\">\n",
       "      <th></th>\n",
       "      <th>id</th>\n",
       "      <th>keyword</th>\n",
       "      <th>location</th>\n",
       "      <th>text</th>\n",
       "      <th>target</th>\n",
       "    </tr>\n",
       "  </thead>\n",
       "  <tbody>\n",
       "    <tr>\n",
       "      <th>0</th>\n",
       "      <td>1</td>\n",
       "      <td>NaN</td>\n",
       "      <td>NaN</td>\n",
       "      <td>Our Deeds are the Reason of this #earthquake M...</td>\n",
       "      <td>1</td>\n",
       "    </tr>\n",
       "    <tr>\n",
       "      <th>1</th>\n",
       "      <td>4</td>\n",
       "      <td>NaN</td>\n",
       "      <td>NaN</td>\n",
       "      <td>Forest fire near La Ronge Sask. Canada</td>\n",
       "      <td>1</td>\n",
       "    </tr>\n",
       "    <tr>\n",
       "      <th>2</th>\n",
       "      <td>5</td>\n",
       "      <td>NaN</td>\n",
       "      <td>NaN</td>\n",
       "      <td>All residents asked to 'shelter in place' are ...</td>\n",
       "      <td>1</td>\n",
       "    </tr>\n",
       "    <tr>\n",
       "      <th>3</th>\n",
       "      <td>6</td>\n",
       "      <td>NaN</td>\n",
       "      <td>NaN</td>\n",
       "      <td>13,000 people receive #wildfires evacuation or...</td>\n",
       "      <td>1</td>\n",
       "    </tr>\n",
       "    <tr>\n",
       "      <th>4</th>\n",
       "      <td>7</td>\n",
       "      <td>NaN</td>\n",
       "      <td>NaN</td>\n",
       "      <td>Just got sent this photo from Ruby #Alaska as ...</td>\n",
       "      <td>1</td>\n",
       "    </tr>\n",
       "    <tr>\n",
       "      <th>...</th>\n",
       "      <td>...</td>\n",
       "      <td>...</td>\n",
       "      <td>...</td>\n",
       "      <td>...</td>\n",
       "      <td>...</td>\n",
       "    </tr>\n",
       "    <tr>\n",
       "      <th>7608</th>\n",
       "      <td>10869</td>\n",
       "      <td>NaN</td>\n",
       "      <td>NaN</td>\n",
       "      <td>Two giant cranes holding a bridge collapse int...</td>\n",
       "      <td>1</td>\n",
       "    </tr>\n",
       "    <tr>\n",
       "      <th>7609</th>\n",
       "      <td>10870</td>\n",
       "      <td>NaN</td>\n",
       "      <td>NaN</td>\n",
       "      <td>@aria_ahrary @TheTawniest The out of control w...</td>\n",
       "      <td>1</td>\n",
       "    </tr>\n",
       "    <tr>\n",
       "      <th>7610</th>\n",
       "      <td>10871</td>\n",
       "      <td>NaN</td>\n",
       "      <td>NaN</td>\n",
       "      <td>M1.94 [01:04 UTC]?5km S of Volcano Hawaii. htt...</td>\n",
       "      <td>1</td>\n",
       "    </tr>\n",
       "    <tr>\n",
       "      <th>7611</th>\n",
       "      <td>10872</td>\n",
       "      <td>NaN</td>\n",
       "      <td>NaN</td>\n",
       "      <td>Police investigating after an e-bike collided ...</td>\n",
       "      <td>1</td>\n",
       "    </tr>\n",
       "    <tr>\n",
       "      <th>7612</th>\n",
       "      <td>10873</td>\n",
       "      <td>NaN</td>\n",
       "      <td>NaN</td>\n",
       "      <td>The Latest: More Homes Razed by Northern Calif...</td>\n",
       "      <td>1</td>\n",
       "    </tr>\n",
       "  </tbody>\n",
       "</table>\n",
       "<p>7613 rows × 5 columns</p>\n",
       "</div>"
      ],
      "text/plain": [
       "         id keyword location  \\\n",
       "0         1     NaN      NaN   \n",
       "1         4     NaN      NaN   \n",
       "2         5     NaN      NaN   \n",
       "3         6     NaN      NaN   \n",
       "4         7     NaN      NaN   \n",
       "...     ...     ...      ...   \n",
       "7608  10869     NaN      NaN   \n",
       "7609  10870     NaN      NaN   \n",
       "7610  10871     NaN      NaN   \n",
       "7611  10872     NaN      NaN   \n",
       "7612  10873     NaN      NaN   \n",
       "\n",
       "                                                   text  target  \n",
       "0     Our Deeds are the Reason of this #earthquake M...       1  \n",
       "1                Forest fire near La Ronge Sask. Canada       1  \n",
       "2     All residents asked to 'shelter in place' are ...       1  \n",
       "3     13,000 people receive #wildfires evacuation or...       1  \n",
       "4     Just got sent this photo from Ruby #Alaska as ...       1  \n",
       "...                                                 ...     ...  \n",
       "7608  Two giant cranes holding a bridge collapse int...       1  \n",
       "7609  @aria_ahrary @TheTawniest The out of control w...       1  \n",
       "7610  M1.94 [01:04 UTC]?5km S of Volcano Hawaii. htt...       1  \n",
       "7611  Police investigating after an e-bike collided ...       1  \n",
       "7612  The Latest: More Homes Razed by Northern Calif...       1  \n",
       "\n",
       "[7613 rows x 5 columns]"
      ]
     },
     "execution_count": 6,
     "metadata": {},
     "output_type": "execute_result"
    }
   ],
   "source": [
    "dataset1"
   ]
  },
  {
   "cell_type": "code",
   "execution_count": 8,
   "id": "81fb0440",
   "metadata": {
    "ExecuteTime": {
     "end_time": "2022-10-27T10:16:40.424870Z",
     "start_time": "2022-10-27T10:16:40.417223Z"
    }
   },
   "outputs": [
    {
     "data": {
      "text/plain": "(7613, 5)"
     },
     "execution_count": 8,
     "metadata": {},
     "output_type": "execute_result"
    }
   ],
   "source": [
    "dataset1.shape"
   ]
  },
  {
   "cell_type": "code",
   "execution_count": 10,
   "id": "0dfd0cbc",
   "metadata": {
    "ExecuteTime": {
     "end_time": "2022-10-27T10:17:10.336071Z",
     "start_time": "2022-10-27T10:17:10.307020Z"
    }
   },
   "outputs": [
    {
     "name": "stdout",
     "output_type": "stream",
     "text": [
      "<class 'pandas.core.frame.DataFrame'>\n",
      "RangeIndex: 7613 entries, 0 to 7612\n",
      "Data columns (total 5 columns):\n",
      " #   Column    Non-Null Count  Dtype \n",
      "---  ------    --------------  ----- \n",
      " 0   id        7613 non-null   int64 \n",
      " 1   keyword   7552 non-null   object\n",
      " 2   location  5080 non-null   object\n",
      " 3   text      7613 non-null   object\n",
      " 4   target    7613 non-null   int64 \n",
      "dtypes: int64(2), object(3)\n",
      "memory usage: 297.5+ KB\n"
     ]
    }
   ],
   "source": [
    "dataset1.info()"
   ]
  },
  {
   "cell_type": "code",
   "execution_count": 11,
   "id": "57613ccd",
   "metadata": {
    "ExecuteTime": {
     "end_time": "2022-10-27T10:26:53.800211Z",
     "start_time": "2022-10-27T10:26:53.784825Z"
    }
   },
   "outputs": [
    {
     "data": {
      "text/plain": "0       Our Deeds are the Reason of this #earthquake M...\n1                  Forest fire near La Ronge Sask. Canada\n2       All residents asked to 'shelter in place' are ...\n3       13,000 people receive #wildfires evacuation or...\n4       Just got sent this photo from Ruby #Alaska as ...\n                              ...                        \n7608    Two giant cranes holding a bridge collapse int...\n7609    @aria_ahrary @TheTawniest The out of control w...\n7610    M1.94 [01:04 UTC]?5km S of Volcano Hawaii. htt...\n7611    Police investigating after an e-bike collided ...\n7612    The Latest: More Homes Razed by Northern Calif...\nName: text, Length: 7613, dtype: object"
     },
     "execution_count": 11,
     "metadata": {},
     "output_type": "execute_result"
    }
   ],
   "source": [
    "text = dataset1[\"text\"]\n",
    "text"
   ]
  },
  {
   "cell_type": "code",
   "execution_count": 13,
   "id": "97a039af",
   "metadata": {
    "ExecuteTime": {
     "end_time": "2022-11-10T00:32:44.732655Z",
     "start_time": "2022-11-10T00:32:41.773206Z"
    }
   },
   "outputs": [
    {
     "name": "stderr",
     "output_type": "stream",
     "text": [
      "[nltk_data] Downloading package stopwords to\n",
      "[nltk_data]     C:\\Users\\mmdee\\AppData\\Roaming\\nltk_data...\n",
      "[nltk_data]   Package stopwords is already up-to-date!\n"
     ]
    }
   ],
   "source": [
    "import nltk\n",
    "from nltk.corpus import stopwords\n",
    "import re\n",
    "import string\n",
    "import nltk.data\n",
    "nltk.download(\"stopwords\")\n",
    "from nltk.corpus import stopwords\n",
    "from nltk.stem.porter import PorterStemmer"
   ]
  },
  {
   "cell_type": "code",
   "execution_count": 14,
   "id": "635fabf6",
   "metadata": {
    "ExecuteTime": {
     "end_time": "2022-11-10T00:32:46.990169Z",
     "start_time": "2022-11-10T00:32:46.976175Z"
    },
    "scrolled": true
   },
   "outputs": [
    {
     "data": {
      "text/plain": "'!\"#$%&\\'()*+,-./:;<=>?@[\\\\]^_`{|}~'"
     },
     "execution_count": 14,
     "metadata": {},
     "output_type": "execute_result"
    }
   ],
   "source": [
    "string.punctuation #punctuations"
   ]
  },
  {
   "cell_type": "code",
   "execution_count": 1,
   "id": "c9272804",
   "metadata": {
    "ExecuteTime": {
     "end_time": "2022-10-30T14:27:36.253141Z",
     "start_time": "2022-10-30T14:27:36.244056Z"
    }
   },
   "outputs": [],
   "source": [
    "def remove_punc(text):\n",
    "    table.str.maketrans('','',string.punctuations)\n",
    "    return"
   ]
  },
  {
   "cell_type": "code",
   "execution_count": 52,
   "id": "23d67889",
   "metadata": {
    "ExecuteTime": {
     "end_time": "2022-11-10T01:21:50.811365Z",
     "start_time": "2022-11-10T01:21:50.807302Z"
    }
   },
   "outputs": [],
   "source": [
    "def remove_http(text):\n",
    "    url = re.compile(r'https?://\\S+|www\\.\\S+')\n",
    "    return url.sub(r'',text)"
   ]
  },
  {
   "cell_type": "code",
   "execution_count": 53,
   "id": "433bf937",
   "metadata": {
    "ExecuteTime": {
     "end_time": "2022-11-10T01:21:52.699023Z",
     "start_time": "2022-11-10T01:21:52.676415Z"
    }
   },
   "outputs": [],
   "source": [
    "dataset1['text_nohttp'] = dataset1['text'].apply(lambda x : remove_http(x))"
   ]
  },
  {
   "cell_type": "code",
   "execution_count": 54,
   "id": "5c5c58ea",
   "metadata": {
    "ExecuteTime": {
     "end_time": "2022-11-10T01:21:55.157338Z",
     "start_time": "2022-11-10T01:21:55.147143Z"
    }
   },
   "outputs": [],
   "source": [
    "def remove_html(text):\n",
    "    html = re.compile(r'<.*?>')\n",
    "    return html.sub(r'',text)"
   ]
  },
  {
   "cell_type": "code",
   "execution_count": 63,
   "id": "c31245e0",
   "metadata": {
    "ExecuteTime": {
     "end_time": "2022-11-10T01:29:48.482872Z",
     "start_time": "2022-11-10T01:29:48.468054Z"
    }
   },
   "outputs": [],
   "source": [
    "dataset1['text_nohtml'] = dataset1['text_nohttp'].apply(lambda x : remove_html(x))"
   ]
  },
  {
   "cell_type": "code",
   "execution_count": 65,
   "id": "ea9a52e4",
   "metadata": {
    "ExecuteTime": {
     "end_time": "2022-11-10T01:31:46.357570Z",
     "start_time": "2022-11-10T01:31:46.353413Z"
    }
   },
   "outputs": [],
   "source": [
    "# Reference : https://gist.github.com/slowkow/7a7f61f495e3dbb7e3d767f97bd7304b\n",
    "def rem_emoji(text):\n",
    "    emoji = re.compile(\"[\"\n",
    "                           u\"\\U0001F600-\\U0001F64F\"  # emoticons\n",
    "                           u\"\\U0001F300-\\U0001F5FF\"  # symbols & pictographs\n",
    "                           u\"\\U0001F680-\\U0001F6FF\"  # transport & map symbols\n",
    "                           u\"\\U0001F1E0-\\U0001F1FF\"  # flags (iOS)\n",
    "                           u\"\\U00002702-\\U000027B0\"\n",
    "                           u\"\\U000024C2-\\U0001F251\"\n",
    "                           \"]+\", flags=re.UNICODE)\n",
    "    return emoji.sub(r'',text)"
   ]
  },
  {
   "cell_type": "code",
   "execution_count": 71,
   "id": "5cbd3d7a",
   "metadata": {
    "ExecuteTime": {
     "end_time": "2022-11-10T01:35:02.591804Z",
     "start_time": "2022-11-10T01:35:02.555442Z"
    }
   },
   "outputs": [],
   "source": [
    "dataset1['text_noemoji'] = dataset1['text_nohtml'].apply(lambda x : rem_emoji(x))"
   ]
  },
  {
   "cell_type": "code",
   "execution_count": 72,
   "id": "9f04c571",
   "metadata": {
    "ExecuteTime": {
     "end_time": "2022-11-10T01:35:13.081510Z",
     "start_time": "2022-11-10T01:35:13.062922Z"
    }
   },
   "outputs": [
    {
     "data": {
      "text/plain": [
       "{33: None,\n",
       " 34: None,\n",
       " 35: None,\n",
       " 36: None,\n",
       " 37: None,\n",
       " 38: None,\n",
       " 39: None,\n",
       " 40: None,\n",
       " 41: None,\n",
       " 42: None,\n",
       " 43: None,\n",
       " 44: None,\n",
       " 45: None,\n",
       " 46: None,\n",
       " 47: None,\n",
       " 58: None,\n",
       " 59: None,\n",
       " 60: None,\n",
       " 61: None,\n",
       " 62: None,\n",
       " 63: None,\n",
       " 64: None,\n",
       " 91: None,\n",
       " 92: None,\n",
       " 93: None,\n",
       " 94: None,\n",
       " 95: None,\n",
       " 96: None,\n",
       " 123: None,\n",
       " 124: None,\n",
       " 125: None,\n",
       " 126: None}"
      ]
     },
     "execution_count": 72,
     "metadata": {},
     "output_type": "execute_result"
    }
   ],
   "source": []
  },
  {
   "cell_type": "code",
   "execution_count": 74,
   "id": "f3ca94c1",
   "metadata": {
    "ExecuteTime": {
     "end_time": "2022-11-10T12:34:38.624096Z",
     "start_time": "2022-11-10T12:34:38.607094Z"
    }
   },
   "outputs": [],
   "source": [
    "#remove punctuation\n",
    "def rem_punt(text):\n",
    "    table=str.maketrans('','',string.punctuation)\n",
    "    return text.translate(table)\n"
   ]
  },
  {
   "cell_type": "code",
   "execution_count": 76,
   "id": "c951a18f",
   "metadata": {
    "ExecuteTime": {
     "end_time": "2022-11-10T13:58:18.019338Z",
     "start_time": "2022-11-10T13:58:17.933393Z"
    }
   },
   "outputs": [],
   "source": [
    "#removing punctuations\n",
    "dataset1[\"text\"] = dataset1[\"text_noemoji\"].apply(lambda x : rem_punt(x))"
   ]
  },
  {
   "cell_type": "code",
   "execution_count": 78,
   "id": "23b419ff",
   "metadata": {
    "ExecuteTime": {
     "end_time": "2022-11-10T14:40:00.722564Z",
     "start_time": "2022-11-10T14:40:00.696352Z"
    }
   },
   "outputs": [
    {
     "data": {
      "text/html": [
       "<div>\n",
       "<style scoped>\n",
       "    .dataframe tbody tr th:only-of-type {\n",
       "        vertical-align: middle;\n",
       "    }\n",
       "\n",
       "    .dataframe tbody tr th {\n",
       "        vertical-align: top;\n",
       "    }\n",
       "\n",
       "    .dataframe thead th {\n",
       "        text-align: right;\n",
       "    }\n",
       "</style>\n",
       "<table border=\"1\" class=\"dataframe\">\n",
       "  <thead>\n",
       "    <tr style=\"text-align: right;\">\n",
       "      <th></th>\n",
       "      <th>id</th>\n",
       "      <th>keyword</th>\n",
       "      <th>location</th>\n",
       "      <th>text</th>\n",
       "      <th>target</th>\n",
       "      <th>text_nohtml</th>\n",
       "      <th>text_token</th>\n",
       "      <th>text_nohttp</th>\n",
       "      <th>text_noemoji</th>\n",
       "    </tr>\n",
       "  </thead>\n",
       "  <tbody>\n",
       "    <tr>\n",
       "      <th>0</th>\n",
       "      <td>1</td>\n",
       "      <td>NaN</td>\n",
       "      <td>NaN</td>\n",
       "      <td>Our Deeds are the Reason of this earthquake Ma...</td>\n",
       "      <td>1</td>\n",
       "      <td>Our Deeds are the Reason of this #earthquake M...</td>\n",
       "      <td>[Our, Deeds, are, the, Reason, of, this, earth...</td>\n",
       "      <td>Our Deeds are the Reason of this #earthquake M...</td>\n",
       "      <td>Our Deeds are the Reason of this #earthquake M...</td>\n",
       "    </tr>\n",
       "    <tr>\n",
       "      <th>1</th>\n",
       "      <td>4</td>\n",
       "      <td>NaN</td>\n",
       "      <td>NaN</td>\n",
       "      <td>Forest fire near La Ronge Sask Canada</td>\n",
       "      <td>1</td>\n",
       "      <td>Forest fire near La Ronge Sask. Canada</td>\n",
       "      <td>[Forest, fire, near, La, Ronge, Sask, Canada]</td>\n",
       "      <td>Forest fire near La Ronge Sask. Canada</td>\n",
       "      <td>Forest fire near La Ronge Sask. Canada</td>\n",
       "    </tr>\n",
       "    <tr>\n",
       "      <th>2</th>\n",
       "      <td>5</td>\n",
       "      <td>NaN</td>\n",
       "      <td>NaN</td>\n",
       "      <td>All residents asked to shelter in place are be...</td>\n",
       "      <td>1</td>\n",
       "      <td>All residents asked to 'shelter in place' are ...</td>\n",
       "      <td>[All, residents, asked, to, shelter, in, place...</td>\n",
       "      <td>All residents asked to 'shelter in place' are ...</td>\n",
       "      <td>All residents asked to 'shelter in place' are ...</td>\n",
       "    </tr>\n",
       "    <tr>\n",
       "      <th>3</th>\n",
       "      <td>6</td>\n",
       "      <td>NaN</td>\n",
       "      <td>NaN</td>\n",
       "      <td>13000 people receive wildfires evacuation orde...</td>\n",
       "      <td>1</td>\n",
       "      <td>13,000 people receive #wildfires evacuation or...</td>\n",
       "      <td>[13, 000, people, receive, wildfires, evacuati...</td>\n",
       "      <td>13,000 people receive #wildfires evacuation or...</td>\n",
       "      <td>13,000 people receive #wildfires evacuation or...</td>\n",
       "    </tr>\n",
       "    <tr>\n",
       "      <th>4</th>\n",
       "      <td>7</td>\n",
       "      <td>NaN</td>\n",
       "      <td>NaN</td>\n",
       "      <td>Just got sent this photo from Ruby Alaska as s...</td>\n",
       "      <td>1</td>\n",
       "      <td>Just got sent this photo from Ruby #Alaska as ...</td>\n",
       "      <td>[Just, got, sent, this, photo, from, Ruby, Ala...</td>\n",
       "      <td>Just got sent this photo from Ruby #Alaska as ...</td>\n",
       "      <td>Just got sent this photo from Ruby #Alaska as ...</td>\n",
       "    </tr>\n",
       "    <tr>\n",
       "      <th>...</th>\n",
       "      <td>...</td>\n",
       "      <td>...</td>\n",
       "      <td>...</td>\n",
       "      <td>...</td>\n",
       "      <td>...</td>\n",
       "      <td>...</td>\n",
       "      <td>...</td>\n",
       "      <td>...</td>\n",
       "      <td>...</td>\n",
       "    </tr>\n",
       "    <tr>\n",
       "      <th>7608</th>\n",
       "      <td>10869</td>\n",
       "      <td>NaN</td>\n",
       "      <td>NaN</td>\n",
       "      <td>Two giant cranes holding a bridge collapse int...</td>\n",
       "      <td>1</td>\n",
       "      <td>Two giant cranes holding a bridge collapse int...</td>\n",
       "      <td>[Two, giant, cranes, holding, a, bridge, colla...</td>\n",
       "      <td>Two giant cranes holding a bridge collapse int...</td>\n",
       "      <td>Two giant cranes holding a bridge collapse int...</td>\n",
       "    </tr>\n",
       "    <tr>\n",
       "      <th>7609</th>\n",
       "      <td>10870</td>\n",
       "      <td>NaN</td>\n",
       "      <td>NaN</td>\n",
       "      <td>ariaahrary TheTawniest The out of control wild...</td>\n",
       "      <td>1</td>\n",
       "      <td>@aria_ahrary @TheTawniest The out of control w...</td>\n",
       "      <td>[, aria_ahrary, TheTawniest, The, out, of, con...</td>\n",
       "      <td>@aria_ahrary @TheTawniest The out of control w...</td>\n",
       "      <td>@aria_ahrary @TheTawniest The out of control w...</td>\n",
       "    </tr>\n",
       "    <tr>\n",
       "      <th>7610</th>\n",
       "      <td>10871</td>\n",
       "      <td>NaN</td>\n",
       "      <td>NaN</td>\n",
       "      <td>M194 0104 UTC5km S of Volcano Hawaii</td>\n",
       "      <td>1</td>\n",
       "      <td>M1.94 [01:04 UTC]?5km S of Volcano Hawaii.</td>\n",
       "      <td>[M1, 94, 01, 04, UTC, 5km, S, of, Volcano, Haw...</td>\n",
       "      <td>M1.94 [01:04 UTC]?5km S of Volcano Hawaii.</td>\n",
       "      <td>M1.94 [01:04 UTC]?5km S of Volcano Hawaii.</td>\n",
       "    </tr>\n",
       "    <tr>\n",
       "      <th>7611</th>\n",
       "      <td>10872</td>\n",
       "      <td>NaN</td>\n",
       "      <td>NaN</td>\n",
       "      <td>Police investigating after an ebike collided w...</td>\n",
       "      <td>1</td>\n",
       "      <td>Police investigating after an e-bike collided ...</td>\n",
       "      <td>[Police, investigating, after, an, e, bike, co...</td>\n",
       "      <td>Police investigating after an e-bike collided ...</td>\n",
       "      <td>Police investigating after an e-bike collided ...</td>\n",
       "    </tr>\n",
       "    <tr>\n",
       "      <th>7612</th>\n",
       "      <td>10873</td>\n",
       "      <td>NaN</td>\n",
       "      <td>NaN</td>\n",
       "      <td>The Latest More Homes Razed by Northern Califo...</td>\n",
       "      <td>1</td>\n",
       "      <td>The Latest: More Homes Razed by Northern Calif...</td>\n",
       "      <td>[The, Latest, More, Homes, Razed, by, Northern...</td>\n",
       "      <td>The Latest: More Homes Razed by Northern Calif...</td>\n",
       "      <td>The Latest: More Homes Razed by Northern Calif...</td>\n",
       "    </tr>\n",
       "  </tbody>\n",
       "</table>\n",
       "<p>7613 rows × 9 columns</p>\n",
       "</div>"
      ],
      "text/plain": [
       "         id keyword location  \\\n",
       "0         1     NaN      NaN   \n",
       "1         4     NaN      NaN   \n",
       "2         5     NaN      NaN   \n",
       "3         6     NaN      NaN   \n",
       "4         7     NaN      NaN   \n",
       "...     ...     ...      ...   \n",
       "7608  10869     NaN      NaN   \n",
       "7609  10870     NaN      NaN   \n",
       "7610  10871     NaN      NaN   \n",
       "7611  10872     NaN      NaN   \n",
       "7612  10873     NaN      NaN   \n",
       "\n",
       "                                                   text  target  \\\n",
       "0     Our Deeds are the Reason of this earthquake Ma...       1   \n",
       "1                 Forest fire near La Ronge Sask Canada       1   \n",
       "2     All residents asked to shelter in place are be...       1   \n",
       "3     13000 people receive wildfires evacuation orde...       1   \n",
       "4     Just got sent this photo from Ruby Alaska as s...       1   \n",
       "...                                                 ...     ...   \n",
       "7608  Two giant cranes holding a bridge collapse int...       1   \n",
       "7609  ariaahrary TheTawniest The out of control wild...       1   \n",
       "7610              M194 0104 UTC5km S of Volcano Hawaii        1   \n",
       "7611  Police investigating after an ebike collided w...       1   \n",
       "7612  The Latest More Homes Razed by Northern Califo...       1   \n",
       "\n",
       "                                            text_nohtml  \\\n",
       "0     Our Deeds are the Reason of this #earthquake M...   \n",
       "1                Forest fire near La Ronge Sask. Canada   \n",
       "2     All residents asked to 'shelter in place' are ...   \n",
       "3     13,000 people receive #wildfires evacuation or...   \n",
       "4     Just got sent this photo from Ruby #Alaska as ...   \n",
       "...                                                 ...   \n",
       "7608  Two giant cranes holding a bridge collapse int...   \n",
       "7609  @aria_ahrary @TheTawniest The out of control w...   \n",
       "7610        M1.94 [01:04 UTC]?5km S of Volcano Hawaii.    \n",
       "7611  Police investigating after an e-bike collided ...   \n",
       "7612  The Latest: More Homes Razed by Northern Calif...   \n",
       "\n",
       "                                             text_token  \\\n",
       "0     [Our, Deeds, are, the, Reason, of, this, earth...   \n",
       "1         [Forest, fire, near, La, Ronge, Sask, Canada]   \n",
       "2     [All, residents, asked, to, shelter, in, place...   \n",
       "3     [13, 000, people, receive, wildfires, evacuati...   \n",
       "4     [Just, got, sent, this, photo, from, Ruby, Ala...   \n",
       "...                                                 ...   \n",
       "7608  [Two, giant, cranes, holding, a, bridge, colla...   \n",
       "7609  [, aria_ahrary, TheTawniest, The, out, of, con...   \n",
       "7610  [M1, 94, 01, 04, UTC, 5km, S, of, Volcano, Haw...   \n",
       "7611  [Police, investigating, after, an, e, bike, co...   \n",
       "7612  [The, Latest, More, Homes, Razed, by, Northern...   \n",
       "\n",
       "                                            text_nohttp  \\\n",
       "0     Our Deeds are the Reason of this #earthquake M...   \n",
       "1                Forest fire near La Ronge Sask. Canada   \n",
       "2     All residents asked to 'shelter in place' are ...   \n",
       "3     13,000 people receive #wildfires evacuation or...   \n",
       "4     Just got sent this photo from Ruby #Alaska as ...   \n",
       "...                                                 ...   \n",
       "7608  Two giant cranes holding a bridge collapse int...   \n",
       "7609  @aria_ahrary @TheTawniest The out of control w...   \n",
       "7610        M1.94 [01:04 UTC]?5km S of Volcano Hawaii.    \n",
       "7611  Police investigating after an e-bike collided ...   \n",
       "7612  The Latest: More Homes Razed by Northern Calif...   \n",
       "\n",
       "                                           text_noemoji  \n",
       "0     Our Deeds are the Reason of this #earthquake M...  \n",
       "1                Forest fire near La Ronge Sask. Canada  \n",
       "2     All residents asked to 'shelter in place' are ...  \n",
       "3     13,000 people receive #wildfires evacuation or...  \n",
       "4     Just got sent this photo from Ruby #Alaska as ...  \n",
       "...                                                 ...  \n",
       "7608  Two giant cranes holding a bridge collapse int...  \n",
       "7609  @aria_ahrary @TheTawniest The out of control w...  \n",
       "7610        M1.94 [01:04 UTC]?5km S of Volcano Hawaii.   \n",
       "7611  Police investigating after an e-bike collided ...  \n",
       "7612  The Latest: More Homes Razed by Northern Calif...  \n",
       "\n",
       "[7613 rows x 9 columns]"
      ]
     },
     "execution_count": 78,
     "metadata": {},
     "output_type": "execute_result"
    }
   ],
   "source": [
    "dataset1"
   ]
  },
  {
   "cell_type": "code",
   "execution_count": 98,
   "id": "5f544f97",
   "metadata": {
    "ExecuteTime": {
     "end_time": "2022-11-10T16:46:15.439807Z",
     "start_time": "2022-11-10T16:46:15.419160Z"
    }
   },
   "outputs": [],
   "source": [
    "# ref https://www.kaggle.com/code/shahules/basic-eda-cleaning-and-glove#Data-Cleaning\n",
    "\n",
    "def correct_spell (text):\n",
    "    corrected_text = []\n",
    "    misspelled_words = spell.unknown(text.split())\n",
    "    for word in text.split():\n",
    "        if word in misspelled_words:\n",
    "            corrected_text.append(spell.correction(word))\n",
    "        else :\n",
    "            corrected_text.append(word)\n",
    "    return corrected_text"
   ]
  },
  {
   "cell_type": "code",
   "execution_count": 99,
   "id": "3889b2c2",
   "metadata": {
    "ExecuteTime": {
     "end_time": "2022-11-10T16:58:25.336563Z",
     "start_time": "2022-11-10T16:46:18.017397Z"
    }
   },
   "outputs": [],
   "source": [
    "dataset1['text']=dataset1['text'].apply(lambda x : correct_spell(x))\n"
   ]
  },
  {
   "cell_type": "code",
   "execution_count": 80,
   "id": "0ccc18be",
   "metadata": {
    "ExecuteTime": {
     "end_time": "2022-11-10T14:45:21.706150Z",
     "start_time": "2022-11-10T14:45:15.266253Z"
    }
   },
   "outputs": [
    {
     "name": "stdout",
     "output_type": "stream",
     "text": [
      "Collecting pyspellchecker\n",
      "  Downloading pyspellchecker-0.7.0-py3-none-any.whl (2.5 MB)\n",
      "Installing collected packages: pyspellchecker\n",
      "Successfully installed pyspellchecker-0.7.0\n"
     ]
    }
   ],
   "source": [
    "!pip install pyspellchecker\n"
   ]
  },
  {
   "cell_type": "code",
   "execution_count": 106,
   "id": "18f74d14",
   "metadata": {
    "ExecuteTime": {
     "end_time": "2022-11-10T17:57:22.369584Z",
     "start_time": "2022-11-10T17:57:22.245985Z"
    }
   },
   "outputs": [],
   "source": [
    "from spellchecker import SpellChecker\n",
    "\n",
    "spell = SpellChecker()"
   ]
  },
  {
   "cell_type": "code",
   "execution_count": 110,
   "id": "42ef9a3f",
   "metadata": {
    "ExecuteTime": {
     "end_time": "2022-11-10T18:01:01.404257Z",
     "start_time": "2022-11-10T18:01:01.397037Z"
    }
   },
   "outputs": [],
   "source": [
    "from nltk.stem import WordNetLemmatizer\n",
    "  \n",
    "lemmatizer = WordNetLemmatizer()\n",
    "from nltk.stem import PorterStemmer\n",
    "from nltk.tokenize import word_tokenize\n",
    "  \n",
    "ps = PorterStemmer()"
   ]
  },
  {
   "cell_type": "code",
   "execution_count": 112,
   "id": "741f8881",
   "metadata": {
    "ExecuteTime": {
     "end_time": "2022-11-10T18:01:46.888033Z",
     "start_time": "2022-11-10T18:01:46.868221Z"
    }
   },
   "outputs": [
    {
     "data": {
      "text/plain": [
       "'rock'"
      ]
     },
     "execution_count": 112,
     "metadata": {},
     "output_type": "execute_result"
    }
   ],
   "source": [
    "spell.correction(\"Theres\")\n",
    "lemmatizer.lemmatize(\"rocks\")\n",
    "lemmatizer.lemmatize(\"Theres\")\n",
    "ps.stem(\"rocks\")"
   ]
  },
  {
   "cell_type": "code",
   "execution_count": 9,
   "id": "6ca301bd",
   "metadata": {
    "ExecuteTime": {
     "end_time": "2022-11-10T00:32:53.323614Z",
     "start_time": "2022-11-10T00:32:53.309784Z"
    }
   },
   "outputs": [],
   "source": [
    "def tokenizer(text):\n",
    "    tokens = re.split('\\W+',text)\n",
    "    return tokens \n",
    "\n"
   ]
  },
  {
   "cell_type": "code",
   "execution_count": 59,
   "id": "db18e871",
   "metadata": {
    "ExecuteTime": {
     "end_time": "2022-11-10T01:23:08.055304Z",
     "start_time": "2022-11-10T01:23:07.999595Z"
    }
   },
   "outputs": [],
   "source": [
    "dataset1['text_token']  = dataset1['text_nohtml'].apply(lambda x : tokenizer(x) ) "
   ]
  },
  {
   "cell_type": "code",
   "execution_count": 101,
   "id": "204293e0",
   "metadata": {
    "ExecuteTime": {
     "end_time": "2022-11-10T16:59:22.632039Z",
     "start_time": "2022-11-10T16:59:22.598416Z"
    }
   },
   "outputs": [
    {
     "data": {
      "text/html": [
       "<div>\n",
       "<style scoped>\n",
       "    .dataframe tbody tr th:only-of-type {\n",
       "        vertical-align: middle;\n",
       "    }\n",
       "\n",
       "    .dataframe tbody tr th {\n",
       "        vertical-align: top;\n",
       "    }\n",
       "\n",
       "    .dataframe thead th {\n",
       "        text-align: right;\n",
       "    }\n",
       "</style>\n",
       "<table border=\"1\" class=\"dataframe\">\n",
       "  <thead>\n",
       "    <tr style=\"text-align: right;\">\n",
       "      <th></th>\n",
       "      <th>id</th>\n",
       "      <th>keyword</th>\n",
       "      <th>location</th>\n",
       "      <th>text</th>\n",
       "      <th>target</th>\n",
       "      <th>text_nohtml</th>\n",
       "      <th>text_token</th>\n",
       "      <th>text_nohttp</th>\n",
       "      <th>text_noemoji</th>\n",
       "    </tr>\n",
       "  </thead>\n",
       "  <tbody>\n",
       "    <tr>\n",
       "      <th>0</th>\n",
       "      <td>1</td>\n",
       "      <td>NaN</td>\n",
       "      <td>NaN</td>\n",
       "      <td>[Our, Deeds, are, the, Reason, of, this, earth...</td>\n",
       "      <td>1</td>\n",
       "      <td>Our Deeds are the Reason of this #earthquake M...</td>\n",
       "      <td>[Our, Deeds, are, the, Reason, of, this, earth...</td>\n",
       "      <td>Our Deeds are the Reason of this #earthquake M...</td>\n",
       "      <td>Our Deeds are the Reason of this #earthquake M...</td>\n",
       "    </tr>\n",
       "    <tr>\n",
       "      <th>1</th>\n",
       "      <td>4</td>\n",
       "      <td>NaN</td>\n",
       "      <td>NaN</td>\n",
       "      <td>[Forest, fire, near, La, Ronge, Sask, Canada]</td>\n",
       "      <td>1</td>\n",
       "      <td>Forest fire near La Ronge Sask. Canada</td>\n",
       "      <td>[Forest, fire, near, La, Ronge, Sask, Canada]</td>\n",
       "      <td>Forest fire near La Ronge Sask. Canada</td>\n",
       "      <td>Forest fire near La Ronge Sask. Canada</td>\n",
       "    </tr>\n",
       "    <tr>\n",
       "      <th>2</th>\n",
       "      <td>5</td>\n",
       "      <td>NaN</td>\n",
       "      <td>NaN</td>\n",
       "      <td>[All, residents, asked, to, shelter, in, place...</td>\n",
       "      <td>1</td>\n",
       "      <td>All residents asked to 'shelter in place' are ...</td>\n",
       "      <td>[All, residents, asked, to, shelter, in, place...</td>\n",
       "      <td>All residents asked to 'shelter in place' are ...</td>\n",
       "      <td>All residents asked to 'shelter in place' are ...</td>\n",
       "    </tr>\n",
       "    <tr>\n",
       "      <th>3</th>\n",
       "      <td>6</td>\n",
       "      <td>NaN</td>\n",
       "      <td>NaN</td>\n",
       "      <td>[13000, people, receive, wildfires, evacuation...</td>\n",
       "      <td>1</td>\n",
       "      <td>13,000 people receive #wildfires evacuation or...</td>\n",
       "      <td>[13, 000, people, receive, wildfires, evacuati...</td>\n",
       "      <td>13,000 people receive #wildfires evacuation or...</td>\n",
       "      <td>13,000 people receive #wildfires evacuation or...</td>\n",
       "    </tr>\n",
       "    <tr>\n",
       "      <th>4</th>\n",
       "      <td>7</td>\n",
       "      <td>NaN</td>\n",
       "      <td>NaN</td>\n",
       "      <td>[Just, got, sent, this, photo, from, Ruby, Ala...</td>\n",
       "      <td>1</td>\n",
       "      <td>Just got sent this photo from Ruby #Alaska as ...</td>\n",
       "      <td>[Just, got, sent, this, photo, from, Ruby, Ala...</td>\n",
       "      <td>Just got sent this photo from Ruby #Alaska as ...</td>\n",
       "      <td>Just got sent this photo from Ruby #Alaska as ...</td>\n",
       "    </tr>\n",
       "    <tr>\n",
       "      <th>...</th>\n",
       "      <td>...</td>\n",
       "      <td>...</td>\n",
       "      <td>...</td>\n",
       "      <td>...</td>\n",
       "      <td>...</td>\n",
       "      <td>...</td>\n",
       "      <td>...</td>\n",
       "      <td>...</td>\n",
       "      <td>...</td>\n",
       "    </tr>\n",
       "    <tr>\n",
       "      <th>7608</th>\n",
       "      <td>10869</td>\n",
       "      <td>NaN</td>\n",
       "      <td>NaN</td>\n",
       "      <td>[Two, giant, cranes, holding, a, bridge, colla...</td>\n",
       "      <td>1</td>\n",
       "      <td>Two giant cranes holding a bridge collapse int...</td>\n",
       "      <td>[Two, giant, cranes, holding, a, bridge, colla...</td>\n",
       "      <td>Two giant cranes holding a bridge collapse int...</td>\n",
       "      <td>Two giant cranes holding a bridge collapse int...</td>\n",
       "    </tr>\n",
       "    <tr>\n",
       "      <th>7609</th>\n",
       "      <td>10870</td>\n",
       "      <td>NaN</td>\n",
       "      <td>NaN</td>\n",
       "      <td>[None, TheTawniest, The, out, of, control, wil...</td>\n",
       "      <td>1</td>\n",
       "      <td>@aria_ahrary @TheTawniest The out of control w...</td>\n",
       "      <td>[, aria_ahrary, TheTawniest, The, out, of, con...</td>\n",
       "      <td>@aria_ahrary @TheTawniest The out of control w...</td>\n",
       "      <td>@aria_ahrary @TheTawniest The out of control w...</td>\n",
       "    </tr>\n",
       "    <tr>\n",
       "      <th>7610</th>\n",
       "      <td>10871</td>\n",
       "      <td>NaN</td>\n",
       "      <td>NaN</td>\n",
       "      <td>[M194, 0104, UTC5km, S, of, Volcano, Hawaii]</td>\n",
       "      <td>1</td>\n",
       "      <td>M1.94 [01:04 UTC]?5km S of Volcano Hawaii.</td>\n",
       "      <td>[M1, 94, 01, 04, UTC, 5km, S, of, Volcano, Haw...</td>\n",
       "      <td>M1.94 [01:04 UTC]?5km S of Volcano Hawaii.</td>\n",
       "      <td>M1.94 [01:04 UTC]?5km S of Volcano Hawaii.</td>\n",
       "    </tr>\n",
       "    <tr>\n",
       "      <th>7611</th>\n",
       "      <td>10872</td>\n",
       "      <td>NaN</td>\n",
       "      <td>NaN</td>\n",
       "      <td>[Police, investigating, after, an, bike, colli...</td>\n",
       "      <td>1</td>\n",
       "      <td>Police investigating after an e-bike collided ...</td>\n",
       "      <td>[Police, investigating, after, an, e, bike, co...</td>\n",
       "      <td>Police investigating after an e-bike collided ...</td>\n",
       "      <td>Police investigating after an e-bike collided ...</td>\n",
       "    </tr>\n",
       "    <tr>\n",
       "      <th>7612</th>\n",
       "      <td>10873</td>\n",
       "      <td>NaN</td>\n",
       "      <td>NaN</td>\n",
       "      <td>[The, Latest, More, Homes, Razed, by, Northern...</td>\n",
       "      <td>1</td>\n",
       "      <td>The Latest: More Homes Razed by Northern Calif...</td>\n",
       "      <td>[The, Latest, More, Homes, Razed, by, Northern...</td>\n",
       "      <td>The Latest: More Homes Razed by Northern Calif...</td>\n",
       "      <td>The Latest: More Homes Razed by Northern Calif...</td>\n",
       "    </tr>\n",
       "  </tbody>\n",
       "</table>\n",
       "<p>7613 rows × 9 columns</p>\n",
       "</div>"
      ],
      "text/plain": [
       "         id keyword location  \\\n",
       "0         1     NaN      NaN   \n",
       "1         4     NaN      NaN   \n",
       "2         5     NaN      NaN   \n",
       "3         6     NaN      NaN   \n",
       "4         7     NaN      NaN   \n",
       "...     ...     ...      ...   \n",
       "7608  10869     NaN      NaN   \n",
       "7609  10870     NaN      NaN   \n",
       "7610  10871     NaN      NaN   \n",
       "7611  10872     NaN      NaN   \n",
       "7612  10873     NaN      NaN   \n",
       "\n",
       "                                                   text  target  \\\n",
       "0     [Our, Deeds, are, the, Reason, of, this, earth...       1   \n",
       "1         [Forest, fire, near, La, Ronge, Sask, Canada]       1   \n",
       "2     [All, residents, asked, to, shelter, in, place...       1   \n",
       "3     [13000, people, receive, wildfires, evacuation...       1   \n",
       "4     [Just, got, sent, this, photo, from, Ruby, Ala...       1   \n",
       "...                                                 ...     ...   \n",
       "7608  [Two, giant, cranes, holding, a, bridge, colla...       1   \n",
       "7609  [None, TheTawniest, The, out, of, control, wil...       1   \n",
       "7610       [M194, 0104, UTC5km, S, of, Volcano, Hawaii]       1   \n",
       "7611  [Police, investigating, after, an, bike, colli...       1   \n",
       "7612  [The, Latest, More, Homes, Razed, by, Northern...       1   \n",
       "\n",
       "                                            text_nohtml  \\\n",
       "0     Our Deeds are the Reason of this #earthquake M...   \n",
       "1                Forest fire near La Ronge Sask. Canada   \n",
       "2     All residents asked to 'shelter in place' are ...   \n",
       "3     13,000 people receive #wildfires evacuation or...   \n",
       "4     Just got sent this photo from Ruby #Alaska as ...   \n",
       "...                                                 ...   \n",
       "7608  Two giant cranes holding a bridge collapse int...   \n",
       "7609  @aria_ahrary @TheTawniest The out of control w...   \n",
       "7610        M1.94 [01:04 UTC]?5km S of Volcano Hawaii.    \n",
       "7611  Police investigating after an e-bike collided ...   \n",
       "7612  The Latest: More Homes Razed by Northern Calif...   \n",
       "\n",
       "                                             text_token  \\\n",
       "0     [Our, Deeds, are, the, Reason, of, this, earth...   \n",
       "1         [Forest, fire, near, La, Ronge, Sask, Canada]   \n",
       "2     [All, residents, asked, to, shelter, in, place...   \n",
       "3     [13, 000, people, receive, wildfires, evacuati...   \n",
       "4     [Just, got, sent, this, photo, from, Ruby, Ala...   \n",
       "...                                                 ...   \n",
       "7608  [Two, giant, cranes, holding, a, bridge, colla...   \n",
       "7609  [, aria_ahrary, TheTawniest, The, out, of, con...   \n",
       "7610  [M1, 94, 01, 04, UTC, 5km, S, of, Volcano, Haw...   \n",
       "7611  [Police, investigating, after, an, e, bike, co...   \n",
       "7612  [The, Latest, More, Homes, Razed, by, Northern...   \n",
       "\n",
       "                                            text_nohttp  \\\n",
       "0     Our Deeds are the Reason of this #earthquake M...   \n",
       "1                Forest fire near La Ronge Sask. Canada   \n",
       "2     All residents asked to 'shelter in place' are ...   \n",
       "3     13,000 people receive #wildfires evacuation or...   \n",
       "4     Just got sent this photo from Ruby #Alaska as ...   \n",
       "...                                                 ...   \n",
       "7608  Two giant cranes holding a bridge collapse int...   \n",
       "7609  @aria_ahrary @TheTawniest The out of control w...   \n",
       "7610        M1.94 [01:04 UTC]?5km S of Volcano Hawaii.    \n",
       "7611  Police investigating after an e-bike collided ...   \n",
       "7612  The Latest: More Homes Razed by Northern Calif...   \n",
       "\n",
       "                                           text_noemoji  \n",
       "0     Our Deeds are the Reason of this #earthquake M...  \n",
       "1                Forest fire near La Ronge Sask. Canada  \n",
       "2     All residents asked to 'shelter in place' are ...  \n",
       "3     13,000 people receive #wildfires evacuation or...  \n",
       "4     Just got sent this photo from Ruby #Alaska as ...  \n",
       "...                                                 ...  \n",
       "7608  Two giant cranes holding a bridge collapse int...  \n",
       "7609  @aria_ahrary @TheTawniest The out of control w...  \n",
       "7610        M1.94 [01:04 UTC]?5km S of Volcano Hawaii.   \n",
       "7611  Police investigating after an e-bike collided ...  \n",
       "7612  The Latest: More Homes Razed by Northern Calif...  \n",
       "\n",
       "[7613 rows x 9 columns]"
      ]
     },
     "execution_count": 101,
     "metadata": {},
     "output_type": "execute_result"
    }
   ],
   "source": [
    "dataset1\n"
   ]
  },
  {
   "cell_type": "code",
   "execution_count": 104,
   "id": "794e05cb",
   "metadata": {
    "ExecuteTime": {
     "end_time": "2022-11-10T17:02:29.082130Z",
     "start_time": "2022-11-10T17:02:25.373290Z"
    }
   },
   "outputs": [],
   "source": [
    "dataset1.to_excel(\"abc.xlsx\")"
   ]
  },
  {
   "cell_type": "code",
   "execution_count": 23,
   "id": "275ce7fc",
   "metadata": {
    "ExecuteTime": {
     "end_time": "2022-11-10T00:38:19.930956Z",
     "start_time": "2022-11-10T00:38:19.919828Z"
    }
   },
   "outputs": [],
   "source": [
    "y = dataset1[7609:7610][\"text_token\"]"
   ]
  },
  {
   "cell_type": "code",
   "execution_count": 30,
   "id": "5a514731",
   "metadata": {
    "ExecuteTime": {
     "end_time": "2022-11-10T00:39:30.319309Z",
     "start_time": "2022-11-10T00:39:30.309308Z"
    }
   },
   "outputs": [],
   "source": [
    "y = []\n",
    "\n",
    "y = dataset1[7609:7610][\"text_token\"]"
   ]
  },
  {
   "cell_type": "code",
   "execution_count": 34,
   "id": "f139857c",
   "metadata": {
    "ExecuteTime": {
     "end_time": "2022-11-10T00:40:46.887841Z",
     "start_time": "2022-11-10T00:40:46.879409Z"
    }
   },
   "outputs": [
    {
     "data": {
      "text/plain": [
       "[['',\n",
       "  'aria_ahrary',\n",
       "  'TheTawniest',\n",
       "  'The',\n",
       "  'out',\n",
       "  'of',\n",
       "  'control',\n",
       "  'wild',\n",
       "  'fires',\n",
       "  'in',\n",
       "  'California',\n",
       "  'even',\n",
       "  'in',\n",
       "  'the',\n",
       "  'Northern',\n",
       "  'part',\n",
       "  'of',\n",
       "  'the',\n",
       "  'state',\n",
       "  'Very',\n",
       "  'troubling',\n",
       "  '']]"
      ]
     },
     "execution_count": 34,
     "metadata": {},
     "output_type": "execute_result"
    }
   ],
   "source": [
    "y.to_list()"
   ]
  },
  {
   "cell_type": "code",
   "execution_count": 61,
   "id": "9157f089",
   "metadata": {
    "ExecuteTime": {
     "end_time": "2022-11-10T01:23:23.873496Z",
     "start_time": "2022-11-10T01:23:23.869388Z"
    }
   },
   "outputs": [],
   "source": [
    "z = dataset1[33:34][\"text_token\"].to_list()"
   ]
  },
  {
   "cell_type": "code",
   "execution_count": 62,
   "id": "60dfb7d4",
   "metadata": {
    "ExecuteTime": {
     "end_time": "2022-11-10T01:23:26.520723Z",
     "start_time": "2022-11-10T01:23:26.507381Z"
    }
   },
   "outputs": [
    {
     "data": {
      "text/plain": [
       "[['',\n",
       "  'AFRICANBAZE',\n",
       "  'Breaking',\n",
       "  'news',\n",
       "  'Nigeria',\n",
       "  'flag',\n",
       "  'set',\n",
       "  'ablaze',\n",
       "  'in',\n",
       "  'Aba',\n",
       "  '']]"
      ]
     },
     "execution_count": 62,
     "metadata": {},
     "output_type": "execute_result"
    }
   ],
   "source": [
    "z"
   ]
  },
  {
   "cell_type": "code",
   "execution_count": null,
   "id": "6da141eb",
   "metadata": {},
   "outputs": [],
   "source": []
  }
 ],
 "metadata": {
  "kernelspec": {
   "display_name": "Python 3",
   "language": "python",
   "name": "python3"
  },
  "language_info": {
   "codemirror_mode": {
    "name": "ipython",
    "version": 3
   },
   "file_extension": ".py",
   "mimetype": "text/x-python",
   "name": "python",
   "nbconvert_exporter": "python",
   "pygments_lexer": "ipython3",
   "version": "3.8.8"
  },
  "toc": {
   "base_numbering": 1,
   "nav_menu": {},
   "number_sections": true,
   "sideBar": true,
   "skip_h1_title": false,
   "title_cell": "Table of Contents",
   "title_sidebar": "Contents",
   "toc_cell": false,
   "toc_position": {},
   "toc_section_display": true,
   "toc_window_display": false
  },
  "varInspector": {
   "cols": {
    "lenName": 16,
    "lenType": 16,
    "lenVar": 40
   },
   "kernels_config": {
    "python": {
     "delete_cmd_postfix": "",
     "delete_cmd_prefix": "del ",
     "library": "var_list.py",
     "varRefreshCmd": "print(var_dic_list())"
    },
    "r": {
     "delete_cmd_postfix": ") ",
     "delete_cmd_prefix": "rm(",
     "library": "var_list.r",
     "varRefreshCmd": "cat(var_dic_list()) "
    }
   },
   "types_to_exclude": [
    "module",
    "function",
    "builtin_function_or_method",
    "instance",
    "_Feature"
   ],
   "window_display": false
  }
 },
 "nbformat": 4,
 "nbformat_minor": 5
}
